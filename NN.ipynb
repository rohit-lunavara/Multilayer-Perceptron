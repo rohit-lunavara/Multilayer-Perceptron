{
 "cells": [
  {
   "cell_type": "markdown",
   "metadata": {},
   "source": [
    "# Neural Networks"
   ]
  },
  {
   "cell_type": "markdown",
   "metadata": {},
   "source": [
    "### Comparing performance of \"vanilla\" multilayer perceptron (MLP) with \"vanilla\" MLP + dropout and \"vanilla\" MLP + batch normalization on the Fashion MNIST dataset"
   ]
  },
  {
   "cell_type": "code",
   "execution_count": 1,
   "metadata": {
    "colab": {
     "base_uri": "https://localhost:8080/",
     "height": 88
    },
    "colab_type": "code",
    "id": "N02rjL3ypKG_",
    "outputId": "0979b4df-7b56-4109-b76a-7320869079af"
   },
   "outputs": [
    {
     "name": "stderr",
     "output_type": "stream",
     "text": [
      "Using TensorFlow backend.\n",
      "/usr/local/lib/python3.6/dist-packages/statsmodels/tools/_testing.py:19: FutureWarning: pandas.util.testing is deprecated. Use the functions in the public API at pandas.testing instead.\n",
      "  import pandas.util.testing as tm\n"
     ]
    }
   ],
   "source": [
    "import sklearn\n",
    "import keras\n",
    "import pandas as pd\n",
    "import numpy as np\n",
    "import tensorflow as tf\n",
    "import seaborn as sns\n",
    "import matplotlib.pyplot as plt"
   ]
  },
  {
   "cell_type": "code",
   "execution_count": 2,
   "metadata": {
    "colab": {
     "base_uri": "https://localhost:8080/",
     "height": 153
    },
    "colab_type": "code",
    "id": "6nXChUiXpkj2",
    "outputId": "6eb5ecd9-b961-4af7-fc6a-afec76386a21"
   },
   "outputs": [
    {
     "name": "stdout",
     "output_type": "stream",
     "text": [
      "Downloading data from http://fashion-mnist.s3-website.eu-central-1.amazonaws.com/train-labels-idx1-ubyte.gz\n",
      "32768/29515 [=================================] - 0s 9us/step\n",
      "Downloading data from http://fashion-mnist.s3-website.eu-central-1.amazonaws.com/train-images-idx3-ubyte.gz\n",
      "26427392/26421880 [==============================] - 4s 0us/step\n",
      "Downloading data from http://fashion-mnist.s3-website.eu-central-1.amazonaws.com/t10k-labels-idx1-ubyte.gz\n",
      "8192/5148 [===============================================] - 0s 0us/step\n",
      "Downloading data from http://fashion-mnist.s3-website.eu-central-1.amazonaws.com/t10k-images-idx3-ubyte.gz\n",
      "4423680/4422102 [==============================] - 2s 1us/step\n"
     ]
    }
   ],
   "source": [
    "from keras.datasets import fashion_mnist\n",
    "\n",
    "(X_train, y_train), (X_test, y_test) = fashion_mnist.load_data()"
   ]
  },
  {
   "cell_type": "code",
   "execution_count": null,
   "metadata": {
    "colab": {},
    "colab_type": "code",
    "id": "wPnn8UORqmb0"
   },
   "outputs": [],
   "source": [
    "X_train = X_train.reshape(60000, 784)\n",
    "X_test = X_test.reshape(10000, 784)"
   ]
  },
  {
   "cell_type": "code",
   "execution_count": null,
   "metadata": {
    "colab": {},
    "colab_type": "code",
    "id": "QY6FIF3Bqmhi"
   },
   "outputs": [],
   "source": [
    "X_train = X_train.astype('float32')\n",
    "X_test = X_test.astype('float32')"
   ]
  },
  {
   "cell_type": "code",
   "execution_count": null,
   "metadata": {
    "colab": {},
    "colab_type": "code",
    "id": "2MKE303hqmpN"
   },
   "outputs": [],
   "source": [
    "# Divide by 255 since range is 0 to 255\n",
    "X_train /= 255\n",
    "X_test /= 255"
   ]
  },
  {
   "cell_type": "code",
   "execution_count": 6,
   "metadata": {
    "colab": {
     "base_uri": "https://localhost:8080/",
     "height": 34
    },
    "colab_type": "code",
    "id": "inrJT7TBzq2u",
    "outputId": "d95ac47d-aab5-4d39-f86d-0793f5c3f91a"
   },
   "outputs": [
    {
     "data": {
      "text/plain": [
       "(60000, 784)"
      ]
     },
     "execution_count": 6,
     "metadata": {
      "tags": []
     },
     "output_type": "execute_result"
    }
   ],
   "source": [
    "X_train.shape"
   ]
  },
  {
   "cell_type": "code",
   "execution_count": 7,
   "metadata": {
    "colab": {
     "base_uri": "https://localhost:8080/",
     "height": 51
    },
    "colab_type": "code",
    "id": "W-OUSSkgqm3y",
    "outputId": "bd86387d-4d80-4a4c-bb82-ca9b92468817"
   },
   "outputs": [
    {
     "name": "stdout",
     "output_type": "stream",
     "text": [
      "60000 train samples\n",
      "10000 test samples\n"
     ]
    }
   ],
   "source": [
    "print(X_train.shape[0], 'train samples')\n",
    "print(X_test.shape[0], 'test samples')"
   ]
  },
  {
   "cell_type": "code",
   "execution_count": null,
   "metadata": {
    "colab": {},
    "colab_type": "code",
    "id": "7PXfL6lYqoVk"
   },
   "outputs": [],
   "source": [
    "num_classes = 10\n",
    "# Convert class vectors to binary class matrices\n",
    "y_train = keras.utils.to_categorical(y_train, num_classes)\n",
    "y_test = keras.utils.to_categorical(y_test, num_classes)"
   ]
  },
  {
   "cell_type": "markdown",
   "metadata": {
    "colab_type": "text",
    "id": "WLEFhsqj3p8j"
   },
   "source": [
    "## \"Vanilla\" model"
   ]
  },
  {
   "cell_type": "code",
   "execution_count": null,
   "metadata": {
    "colab": {},
    "colab_type": "code",
    "id": "HLMWo8J-qoiH"
   },
   "outputs": [],
   "source": [
    "from keras.models import Sequential\n",
    "from keras.layers import Dense, Activation\n",
    "\n",
    "basic_model = Sequential(\n",
    "    [\n",
    "        # 1st hidden layer\n",
    "        Dense(196, input_shape = (784, )),\n",
    "        Activation('relu'),\n",
    "     \n",
    "        # 2nd hidden layer\n",
    "        Dense(49),\n",
    "        Activation('relu'),\n",
    "     \n",
    "        # Output layer\n",
    "        Dense(10),\n",
    "        Activation('softmax')\n",
    "    ]\n",
    ")"
   ]
  },
  {
   "cell_type": "code",
   "execution_count": null,
   "metadata": {
    "colab": {},
    "colab_type": "code",
    "id": "F5MWXcN3zA65"
   },
   "outputs": [],
   "source": [
    "basic_model.compile(\"adam\", \"categorical_crossentropy\", metrics=['accuracy'])"
   ]
  },
  {
   "cell_type": "code",
   "execution_count": 16,
   "metadata": {
    "colab": {
     "base_uri": "https://localhost:8080/",
     "height": 884
    },
    "colab_type": "code",
    "id": "qWUBYfLaqooW",
    "outputId": "8a881ea0-08d8-4a34-defc-bf05136182d5"
   },
   "outputs": [
    {
     "name": "stdout",
     "output_type": "stream",
     "text": [
      "Train on 50000 samples, validate on 10000 samples\n",
      "Epoch 1/25\n",
      "50000/50000 [==============================] - 19s 376us/step - loss: 0.3341 - accuracy: 0.8766 - val_loss: 0.3904 - val_accuracy: 0.8631\n",
      "Epoch 2/25\n",
      "50000/50000 [==============================] - 19s 374us/step - loss: 0.3157 - accuracy: 0.8837 - val_loss: 0.3603 - val_accuracy: 0.8742\n",
      "Epoch 3/25\n",
      "50000/50000 [==============================] - 19s 385us/step - loss: 0.2959 - accuracy: 0.8904 - val_loss: 0.3500 - val_accuracy: 0.8781\n",
      "Epoch 4/25\n",
      "50000/50000 [==============================] - 19s 378us/step - loss: 0.2830 - accuracy: 0.8946 - val_loss: 0.3521 - val_accuracy: 0.8736\n",
      "Epoch 5/25\n",
      "50000/50000 [==============================] - 19s 373us/step - loss: 0.2718 - accuracy: 0.8981 - val_loss: 0.3396 - val_accuracy: 0.8837\n",
      "Epoch 6/25\n",
      "50000/50000 [==============================] - 19s 380us/step - loss: 0.2659 - accuracy: 0.9012 - val_loss: 0.3296 - val_accuracy: 0.8864\n",
      "Epoch 7/25\n",
      "50000/50000 [==============================] - 19s 386us/step - loss: 0.2524 - accuracy: 0.9056 - val_loss: 0.4011 - val_accuracy: 0.8610\n",
      "Epoch 8/25\n",
      "50000/50000 [==============================] - 19s 373us/step - loss: 0.2461 - accuracy: 0.9078 - val_loss: 0.3651 - val_accuracy: 0.8818\n",
      "Epoch 9/25\n",
      "50000/50000 [==============================] - 19s 377us/step - loss: 0.2394 - accuracy: 0.9099 - val_loss: 0.3575 - val_accuracy: 0.8841\n",
      "Epoch 10/25\n",
      "50000/50000 [==============================] - 18s 366us/step - loss: 0.2342 - accuracy: 0.9120 - val_loss: 0.3773 - val_accuracy: 0.8818\n",
      "Epoch 11/25\n",
      "50000/50000 [==============================] - 19s 370us/step - loss: 0.2287 - accuracy: 0.9124 - val_loss: 0.3558 - val_accuracy: 0.8897\n",
      "Epoch 12/25\n",
      "50000/50000 [==============================] - 19s 376us/step - loss: 0.2250 - accuracy: 0.9152 - val_loss: 0.3683 - val_accuracy: 0.8881\n",
      "Epoch 13/25\n",
      "50000/50000 [==============================] - 18s 367us/step - loss: 0.2157 - accuracy: 0.9193 - val_loss: 0.3780 - val_accuracy: 0.8829\n",
      "Epoch 14/25\n",
      "50000/50000 [==============================] - 18s 364us/step - loss: 0.2136 - accuracy: 0.9199 - val_loss: 0.3850 - val_accuracy: 0.8864\n",
      "Epoch 15/25\n",
      "50000/50000 [==============================] - 18s 363us/step - loss: 0.2086 - accuracy: 0.9216 - val_loss: 0.3674 - val_accuracy: 0.8895\n",
      "Epoch 16/25\n",
      "50000/50000 [==============================] - 19s 381us/step - loss: 0.2046 - accuracy: 0.9222 - val_loss: 0.3868 - val_accuracy: 0.8852\n",
      "Epoch 17/25\n",
      "50000/50000 [==============================] - 19s 378us/step - loss: 0.2002 - accuracy: 0.9259 - val_loss: 0.3961 - val_accuracy: 0.8882\n",
      "Epoch 18/25\n",
      "50000/50000 [==============================] - 19s 381us/step - loss: 0.1968 - accuracy: 0.9248 - val_loss: 0.3803 - val_accuracy: 0.8906\n",
      "Epoch 19/25\n",
      "50000/50000 [==============================] - 18s 363us/step - loss: 0.1925 - accuracy: 0.9279 - val_loss: 0.3952 - val_accuracy: 0.8875\n",
      "Epoch 20/25\n",
      "50000/50000 [==============================] - 19s 372us/step - loss: 0.1926 - accuracy: 0.9283 - val_loss: 0.4026 - val_accuracy: 0.8857\n",
      "Epoch 21/25\n",
      "50000/50000 [==============================] - 18s 365us/step - loss: 0.1872 - accuracy: 0.9294 - val_loss: 0.4204 - val_accuracy: 0.8885\n",
      "Epoch 22/25\n",
      "50000/50000 [==============================] - 18s 366us/step - loss: 0.1807 - accuracy: 0.9321 - val_loss: 0.4350 - val_accuracy: 0.8905\n",
      "Epoch 23/25\n",
      "50000/50000 [==============================] - 18s 363us/step - loss: 0.1827 - accuracy: 0.9319 - val_loss: 0.4333 - val_accuracy: 0.8838\n",
      "Epoch 24/25\n",
      "50000/50000 [==============================] - 18s 367us/step - loss: 0.1796 - accuracy: 0.9312 - val_loss: 0.4880 - val_accuracy: 0.8847\n",
      "Epoch 25/25\n",
      "50000/50000 [==============================] - 19s 385us/step - loss: 0.1739 - accuracy: 0.9343 - val_loss: 0.4971 - val_accuracy: 0.8850\n"
     ]
    }
   ],
   "source": [
    "# Validation split = 1/6 gives us 10000 samples since we 60000 training samples\n",
    "basic_model_history = basic_model.fit(X_train, y_train, batch_size = 8, epochs = 25, verbose = 1, validation_split = 1/6)"
   ]
  },
  {
   "cell_type": "code",
   "execution_count": 49,
   "metadata": {
    "colab": {
     "base_uri": "https://localhost:8080/",
     "height": 68
    },
    "colab_type": "code",
    "id": "8PFzyt1s4JGQ",
    "outputId": "9526e066-2e3b-41db-c697-4135aeb574d2"
   },
   "outputs": [
    {
     "name": "stdout",
     "output_type": "stream",
     "text": [
      "10000/10000 [==============================] - 0s 48us/step\n",
      "\"Vanilla\" model test loss: 0.537\n",
      "\"Vanilla\" model test accuracy: 0.881\n"
     ]
    }
   ],
   "source": [
    "basic_model_score = basic_model.evaluate(X_test, y_test)\n",
    "print(\"\\\"Vanilla\\\" model test loss: {:.3f}\".format(basic_model_score[0]))\n",
    "print(\"\\\"Vanilla\\\" model test accuracy: {:.3f}\".format(basic_model_score[1]))"
   ]
  },
  {
   "cell_type": "code",
   "execution_count": 50,
   "metadata": {
    "colab": {
     "base_uri": "https://localhost:8080/",
     "height": 312
    },
    "colab_type": "code",
    "id": "pJLo8V2LqouV",
    "outputId": "9acdfc55-b3a1-4d93-cfca-a2fd1badf652"
   },
   "outputs": [
    {
     "data": {
      "text/plain": [
       "<matplotlib.legend.Legend at 0x7fbeda44ef98>"
      ]
     },
     "execution_count": 50,
     "metadata": {
      "tags": []
     },
     "output_type": "execute_result"
    },
    {
     "data": {
      "image/png": "[encoded data removed]",
      "text/plain": [
       "<Figure size 432x288 with 1 Axes>"
      ]
     },
     "metadata": {
      "needs_background": "light",
      "tags": []
     },
     "output_type": "display_data"
    }
   ],
   "source": [
    "basic_accuracy = basic_model_history.history['accuracy']\n",
    "basic_val_accuracy = basic_model_history.history['val_accuracy']\n",
    "basic_loss = basic_model_history.history['loss']\n",
    "basic_val_loss = basic_model_history.history['val_loss']\n",
    "\n",
    "plt.plot(range(1, len(basic_accuracy) + 1), basic_accuracy, label = 'accuracy')\n",
    "plt.plot(range(1, len(basic_val_accuracy) + 1), basic_val_accuracy, label = 'val accuracy')\n",
    "plt.axhline(y = basic_model_score[1], color = 'g', linestyle='--', label = 'test accuracy', alpha = 0.5)\n",
    "plt.xlabel('epoch number')\n",
    "plt.ylabel('accuracy')\n",
    "plt.title('\\\"vanilla\\\" model')\n",
    "plt.legend()"
   ]
  },
  {
   "cell_type": "markdown",
   "metadata": {
    "colab_type": "text",
    "id": "0jj8C-jXHLLe"
   },
   "source": [
    "The training accuracy does not align well with the validation or test accuracy as the number of epochs increases.\n",
    "\n",
    "It takes a few epochs for the training accuracy to ramp up.\n",
    "\n",
    "This could mean that there is some level of overfitting occuring on the training set."
   ]
  },
  {
   "cell_type": "markdown",
   "metadata": {
    "colab_type": "text",
    "id": "vFe-Bufr5dI7"
   },
   "source": [
    "## Drop-out model"
   ]
  },
  {
   "cell_type": "code",
   "execution_count": null,
   "metadata": {
    "colab": {},
    "colab_type": "code",
    "id": "IkNqIBQeqozr"
   },
   "outputs": [],
   "source": [
    "from keras.models import Sequential\n",
    "from keras.layers import Dense, Activation, Dropout\n",
    "\n",
    "dropout_model = Sequential(\n",
    "    [\n",
    "        # 1st hidden layer\n",
    "        Dense(392, input_shape = (784, )),\n",
    "        Activation('relu'),\n",
    "        Dropout(0.5), \n",
    "     \n",
    "        # 2nd hidden layer\n",
    "        Dense(98),\n",
    "        Activation('relu'),\n",
    "        Dropout(0.5),\n",
    "     \n",
    "        # 3rd hidden layer\n",
    "        Dense(24),\n",
    "        Activation('relu'),\n",
    "        Dropout(0.5),\n",
    "     \n",
    "        # Output layer\n",
    "        Dense(10),\n",
    "        Activation('softmax')\n",
    "    ]\n",
    ")"
   ]
  },
  {
   "cell_type": "code",
   "execution_count": null,
   "metadata": {
    "colab": {},
    "colab_type": "code",
    "id": "bk2q9qTvqo5D"
   },
   "outputs": [],
   "source": [
    "dropout_model.compile(\"adam\", \"categorical_crossentropy\", metrics=['accuracy'])"
   ]
  },
  {
   "cell_type": "code",
   "execution_count": 30,
   "metadata": {
    "colab": {
     "base_uri": "https://localhost:8080/",
     "height": 884
    },
    "colab_type": "code",
    "id": "vls7oremqo93",
    "outputId": "d7ca1d09-9a5b-4741-d2f1-44239fc4731f"
   },
   "outputs": [
    {
     "name": "stdout",
     "output_type": "stream",
     "text": [
      "Train on 50000 samples, validate on 10000 samples\n",
      "Epoch 1/25\n",
      "50000/50000 [==============================] - 24s 476us/step - loss: 1.0363 - accuracy: 0.5962 - val_loss: 0.6172 - val_accuracy: 0.7254\n",
      "Epoch 2/25\n",
      "50000/50000 [==============================] - 23s 469us/step - loss: 0.7838 - accuracy: 0.6883 - val_loss: 0.5846 - val_accuracy: 0.7349\n",
      "Epoch 3/25\n",
      "50000/50000 [==============================] - 23s 462us/step - loss: 0.7407 - accuracy: 0.7046 - val_loss: 0.5580 - val_accuracy: 0.7644\n",
      "Epoch 4/25\n",
      "50000/50000 [==============================] - 23s 463us/step - loss: 0.7177 - accuracy: 0.7197 - val_loss: 0.5467 - val_accuracy: 0.7862\n",
      "Epoch 5/25\n",
      "50000/50000 [==============================] - 23s 462us/step - loss: 0.6847 - accuracy: 0.7381 - val_loss: 0.5273 - val_accuracy: 0.8031\n",
      "Epoch 6/25\n",
      "50000/50000 [==============================] - 23s 460us/step - loss: 0.6678 - accuracy: 0.7578 - val_loss: 0.4960 - val_accuracy: 0.8308\n",
      "Epoch 7/25\n",
      "50000/50000 [==============================] - 23s 468us/step - loss: 0.6470 - accuracy: 0.7753 - val_loss: 0.4701 - val_accuracy: 0.8400\n",
      "Epoch 8/25\n",
      "50000/50000 [==============================] - 23s 464us/step - loss: 0.6328 - accuracy: 0.7808 - val_loss: 0.4651 - val_accuracy: 0.8390\n",
      "Epoch 9/25\n",
      "50000/50000 [==============================] - 23s 470us/step - loss: 0.6308 - accuracy: 0.7842 - val_loss: 0.4658 - val_accuracy: 0.8447\n",
      "Epoch 10/25\n",
      "50000/50000 [==============================] - 23s 457us/step - loss: 0.6235 - accuracy: 0.7880 - val_loss: 0.4443 - val_accuracy: 0.8450\n",
      "Epoch 11/25\n",
      "50000/50000 [==============================] - 23s 467us/step - loss: 0.6094 - accuracy: 0.7905 - val_loss: 0.4447 - val_accuracy: 0.8499\n",
      "Epoch 12/25\n",
      "50000/50000 [==============================] - 23s 461us/step - loss: 0.6015 - accuracy: 0.7944 - val_loss: 0.4379 - val_accuracy: 0.8524\n",
      "Epoch 13/25\n",
      "50000/50000 [==============================] - 23s 465us/step - loss: 0.6032 - accuracy: 0.7967 - val_loss: 0.4281 - val_accuracy: 0.8571\n",
      "Epoch 14/25\n",
      "50000/50000 [==============================] - 24s 475us/step - loss: 0.5974 - accuracy: 0.7987 - val_loss: 0.4495 - val_accuracy: 0.8458\n",
      "Epoch 15/25\n",
      "50000/50000 [==============================] - 23s 464us/step - loss: 0.5831 - accuracy: 0.8015 - val_loss: 0.4512 - val_accuracy: 0.8479\n",
      "Epoch 16/25\n",
      "50000/50000 [==============================] - 23s 461us/step - loss: 0.5884 - accuracy: 0.8014 - val_loss: 0.4385 - val_accuracy: 0.8552\n",
      "Epoch 17/25\n",
      "50000/50000 [==============================] - 24s 473us/step - loss: 0.5859 - accuracy: 0.8026 - val_loss: 0.4436 - val_accuracy: 0.8509\n",
      "Epoch 18/25\n",
      "50000/50000 [==============================] - 24s 476us/step - loss: 0.5853 - accuracy: 0.8034 - val_loss: 0.4290 - val_accuracy: 0.8595\n",
      "Epoch 19/25\n",
      "50000/50000 [==============================] - 23s 468us/step - loss: 0.5753 - accuracy: 0.8074 - val_loss: 0.4493 - val_accuracy: 0.8515\n",
      "Epoch 20/25\n",
      "50000/50000 [==============================] - 23s 461us/step - loss: 0.5687 - accuracy: 0.8077 - val_loss: 0.4259 - val_accuracy: 0.8589\n",
      "Epoch 21/25\n",
      "50000/50000 [==============================] - 23s 466us/step - loss: 0.5804 - accuracy: 0.8080 - val_loss: 0.4171 - val_accuracy: 0.8620\n",
      "Epoch 22/25\n",
      "50000/50000 [==============================] - 24s 474us/step - loss: 0.5720 - accuracy: 0.8074 - val_loss: 0.4313 - val_accuracy: 0.8573\n",
      "Epoch 23/25\n",
      "50000/50000 [==============================] - 23s 467us/step - loss: 0.5691 - accuracy: 0.8099 - val_loss: 0.4409 - val_accuracy: 0.8568\n",
      "Epoch 24/25\n",
      "50000/50000 [==============================] - 23s 459us/step - loss: 0.5740 - accuracy: 0.8103 - val_loss: 0.4424 - val_accuracy: 0.8574\n",
      "Epoch 25/25\n",
      "50000/50000 [==============================] - 23s 462us/step - loss: 0.5608 - accuracy: 0.8127 - val_loss: 0.4305 - val_accuracy: 0.8586\n"
     ]
    }
   ],
   "source": [
    "# Validation split = 1/6 gives us 10000 samples since we 60000 training samples\n",
    "dropout_model_history = dropout_model.fit(X_train, y_train, batch_size = 8, epochs = 25, verbose = 1, validation_split = 1/6)"
   ]
  },
  {
   "cell_type": "code",
   "execution_count": 51,
   "metadata": {
    "colab": {
     "base_uri": "https://localhost:8080/",
     "height": 68
    },
    "colab_type": "code",
    "id": "_LXwEPAmqpCI",
    "outputId": "1d52dc0c-681f-4ad9-9af9-c39513c163e7"
   },
   "outputs": [
    {
     "name": "stdout",
     "output_type": "stream",
     "text": [
      "10000/10000 [==============================] - 0s 48us/step\n",
      "Drop-out model test loss: 0.466\n",
      "Drop-out model test accuracy: 0.853\n"
     ]
    }
   ],
   "source": [
    "dropout_model_score = dropout_model.evaluate(X_test, y_test)\n",
    "print(\"Drop-out model test loss: {:.3f}\".format(dropout_model_score[0]))\n",
    "print(\"Drop-out model test accuracy: {:.3f}\".format(dropout_model_score[1]))"
   ]
  },
  {
   "cell_type": "code",
   "execution_count": 52,
   "metadata": {
    "colab": {
     "base_uri": "https://localhost:8080/",
     "height": 312
    },
    "colab_type": "code",
    "id": "R4ateybfqpF3",
    "outputId": "c35341b3-cf0b-4f12-8a98-f091c58c3fd7"
   },
   "outputs": [
    {
     "data": {
      "text/plain": [
       "<matplotlib.legend.Legend at 0x7fbeda3ff1d0>"
      ]
     },
     "execution_count": 52,
     "metadata": {
      "tags": []
     },
     "output_type": "execute_result"
    },
    {
     "data": {
      "image/png": "[encoded data removed]",
      "text/plain": [
       "<Figure size 432x288 with 1 Axes>"
      ]
     },
     "metadata": {
      "needs_background": "light",
      "tags": []
     },
     "output_type": "display_data"
    }
   ],
   "source": [
    "dropout_accuracy = dropout_model_history.history['accuracy']\n",
    "dropout_val_accuracy = dropout_model_history.history['val_accuracy']\n",
    "dropout_loss = dropout_model_history.history['loss']\n",
    "dropout_val_loss = dropout_model_history.history['val_loss']\n",
    "\n",
    "plt.plot(range(1, len(dropout_accuracy) + 1), dropout_accuracy, label = 'accuracy')\n",
    "plt.plot(range(1, len(dropout_val_accuracy) + 1), dropout_val_accuracy, label = 'val accuracy')\n",
    "plt.axhline(y = dropout_model_score[1], color = 'g', linestyle='--', label = 'test accuracy', alpha = 0.5)\n",
    "plt.xlabel('number of epochs')\n",
    "plt.ylabel('accuracy')\n",
    "plt.title('dropout model')\n",
    "plt.legend()"
   ]
  },
  {
   "cell_type": "markdown",
   "metadata": {
    "colab_type": "text",
    "id": "oUGvtr4qHeMC"
   },
   "source": [
    "It takes a few epochs (5-7) for the training accuracy to ramp up.\n",
    "\n",
    "The test accuracy is higher than the training accuracy.\n",
    "\n",
    "This could mean that the model is more robust and does not overfit on the training set when compared to the \"vanilla\" model."
   ]
  },
  {
   "cell_type": "markdown",
   "metadata": {
    "colab_type": "text",
    "id": "wXkw-Tm5Bf6q"
   },
   "source": [
    "## Batch Normalization model"
   ]
  },
  {
   "cell_type": "code",
   "execution_count": null,
   "metadata": {
    "colab": {},
    "colab_type": "code",
    "id": "lQ7ArwNVqpJh"
   },
   "outputs": [],
   "source": [
    "from keras.models import Sequential\n",
    "from keras.layers import Dense, Activation, BatchNormalization\n",
    "\n",
    "bn_model = Sequential(\n",
    "    [\n",
    "        # 1st hidden layer\n",
    "        Dense(196, input_shape = (784, )),\n",
    "        Activation('relu'),\n",
    "        BatchNormalization(),\n",
    "     \n",
    "        # 2nd hidden layer\n",
    "        Dense(49),\n",
    "        Activation('relu'),\n",
    "        BatchNormalization(),\n",
    "     \n",
    "        # Output layer\n",
    "        Dense(10),\n",
    "        Activation('softmax')\n",
    "    ]\n",
    ")"
   ]
  },
  {
   "cell_type": "code",
   "execution_count": null,
   "metadata": {
    "colab": {},
    "colab_type": "code",
    "id": "PY8TR99cqpNN"
   },
   "outputs": [],
   "source": [
    "bn_model.compile(\"adam\", \"categorical_crossentropy\", metrics=['accuracy'])"
   ]
  },
  {
   "cell_type": "code",
   "execution_count": 35,
   "metadata": {
    "colab": {
     "base_uri": "https://localhost:8080/",
     "height": 884
    },
    "colab_type": "code",
    "id": "n8S6zmZEqpQ3",
    "outputId": "6886eb1a-b8e6-4b84-9be0-f4cac0fac8cd"
   },
   "outputs": [
    {
     "name": "stdout",
     "output_type": "stream",
     "text": [
      "Train on 50000 samples, validate on 10000 samples\n",
      "Epoch 1/25\n",
      "50000/50000 [==============================] - 30s 594us/step - loss: 0.6259 - accuracy: 0.7822 - val_loss: 0.4426 - val_accuracy: 0.8358\n",
      "Epoch 2/25\n",
      "50000/50000 [==============================] - 30s 598us/step - loss: 0.5141 - accuracy: 0.8203 - val_loss: 0.4619 - val_accuracy: 0.8413\n",
      "Epoch 3/25\n",
      "50000/50000 [==============================] - 30s 595us/step - loss: 0.4788 - accuracy: 0.8310 - val_loss: 0.4149 - val_accuracy: 0.8556\n",
      "Epoch 4/25\n",
      "50000/50000 [==============================] - 30s 596us/step - loss: 0.4583 - accuracy: 0.8380 - val_loss: 0.4319 - val_accuracy: 0.8470\n",
      "Epoch 5/25\n",
      "50000/50000 [==============================] - 30s 607us/step - loss: 0.4444 - accuracy: 0.8419 - val_loss: 0.3860 - val_accuracy: 0.8603\n",
      "Epoch 6/25\n",
      "50000/50000 [==============================] - 29s 582us/step - loss: 0.4309 - accuracy: 0.8468 - val_loss: 0.3997 - val_accuracy: 0.8605\n",
      "Epoch 7/25\n",
      "50000/50000 [==============================] - 30s 595us/step - loss: 0.4201 - accuracy: 0.8483 - val_loss: 0.3894 - val_accuracy: 0.8643\n",
      "Epoch 8/25\n",
      "50000/50000 [==============================] - 29s 576us/step - loss: 0.4051 - accuracy: 0.8560 - val_loss: 0.3873 - val_accuracy: 0.8673\n",
      "Epoch 9/25\n",
      "50000/50000 [==============================] - 29s 585us/step - loss: 0.4044 - accuracy: 0.8564 - val_loss: 0.3954 - val_accuracy: 0.8683\n",
      "Epoch 10/25\n",
      "50000/50000 [==============================] - 30s 590us/step - loss: 0.3982 - accuracy: 0.8574 - val_loss: 0.3827 - val_accuracy: 0.8683\n",
      "Epoch 11/25\n",
      "50000/50000 [==============================] - 29s 588us/step - loss: 0.3941 - accuracy: 0.8578 - val_loss: 0.3774 - val_accuracy: 0.8653\n",
      "Epoch 12/25\n",
      "50000/50000 [==============================] - 30s 608us/step - loss: 0.3862 - accuracy: 0.8613 - val_loss: 0.3933 - val_accuracy: 0.8609\n",
      "Epoch 13/25\n",
      "50000/50000 [==============================] - 30s 595us/step - loss: 0.3827 - accuracy: 0.8628 - val_loss: 0.3584 - val_accuracy: 0.8723\n",
      "Epoch 14/25\n",
      "50000/50000 [==============================] - 29s 588us/step - loss: 0.3804 - accuracy: 0.8640 - val_loss: 0.3928 - val_accuracy: 0.8656\n",
      "Epoch 15/25\n",
      "50000/50000 [==============================] - 29s 589us/step - loss: 0.3713 - accuracy: 0.8654 - val_loss: 0.3550 - val_accuracy: 0.8726\n",
      "Epoch 16/25\n",
      "50000/50000 [==============================] - 29s 576us/step - loss: 0.3713 - accuracy: 0.8653 - val_loss: 0.3748 - val_accuracy: 0.8679\n",
      "Epoch 17/25\n",
      "50000/50000 [==============================] - 29s 578us/step - loss: 0.3750 - accuracy: 0.8636 - val_loss: 0.3787 - val_accuracy: 0.8702\n",
      "Epoch 18/25\n",
      "50000/50000 [==============================] - 29s 575us/step - loss: 0.3748 - accuracy: 0.8657 - val_loss: 0.3906 - val_accuracy: 0.8625\n",
      "Epoch 19/25\n",
      "50000/50000 [==============================] - 29s 579us/step - loss: 0.3739 - accuracy: 0.8660 - val_loss: 0.3705 - val_accuracy: 0.8665\n",
      "Epoch 20/25\n",
      "50000/50000 [==============================] - 29s 589us/step - loss: 0.3621 - accuracy: 0.8689 - val_loss: 0.3668 - val_accuracy: 0.8696\n",
      "Epoch 21/25\n",
      "50000/50000 [==============================] - 29s 581us/step - loss: 0.3561 - accuracy: 0.8703 - val_loss: 0.3601 - val_accuracy: 0.8751\n",
      "Epoch 22/25\n",
      "50000/50000 [==============================] - 29s 587us/step - loss: 0.3516 - accuracy: 0.8732 - val_loss: 0.3747 - val_accuracy: 0.8692\n",
      "Epoch 23/25\n",
      "50000/50000 [==============================] - 29s 584us/step - loss: 0.3505 - accuracy: 0.8729 - val_loss: 0.3799 - val_accuracy: 0.8690\n",
      "Epoch 24/25\n",
      "50000/50000 [==============================] - 29s 587us/step - loss: 0.3479 - accuracy: 0.8750 - val_loss: 0.3739 - val_accuracy: 0.8663\n",
      "Epoch 25/25\n",
      "50000/50000 [==============================] - 28s 567us/step - loss: 0.3502 - accuracy: 0.8740 - val_loss: 0.3667 - val_accuracy: 0.8720\n"
     ]
    }
   ],
   "source": [
    "# Validation split = 1/6 gives us 10000 samples since we 60000 training samples\n",
    "bn_model_history = bn_model.fit(X_train, y_train, batch_size = 8, epochs = 25, verbose = 1, validation_split = 1/6)"
   ]
  },
  {
   "cell_type": "code",
   "execution_count": 53,
   "metadata": {
    "colab": {
     "base_uri": "https://localhost:8080/",
     "height": 68
    },
    "colab_type": "code",
    "id": "K40v3vlgqpcu",
    "outputId": "93fbb8bf-1b1b-46e1-d66b-a712fd22491a"
   },
   "outputs": [
    {
     "name": "stdout",
     "output_type": "stream",
     "text": [
      "10000/10000 [==============================] - 1s 59us/step\n",
      "Batch Normalization model test loss: 0.372\n",
      "Batch Normalization model test accuracy: 0.867\n"
     ]
    }
   ],
   "source": [
    "bn_model_score = bn_model.evaluate(X_test, y_test)\n",
    "print(\"Batch Normalization model test loss: {:.3f}\".format(bn_model_score[0]))\n",
    "print(\"Batch Normalization model test accuracy: {:.3f}\".format(bn_model_score[1]))"
   ]
  },
  {
   "cell_type": "code",
   "execution_count": 54,
   "metadata": {
    "colab": {
     "base_uri": "https://localhost:8080/",
     "height": 312
    },
    "colab_type": "code",
    "id": "MeIQgfEBqpgP",
    "outputId": "838abc2e-57cb-4f2c-e5cf-af5fdabc1690"
   },
   "outputs": [
    {
     "data": {
      "text/plain": [
       "<matplotlib.legend.Legend at 0x7fbeda30e940>"
      ]
     },
     "execution_count": 54,
     "metadata": {
      "tags": []
     },
     "output_type": "execute_result"
    },
    {
     "data": {
      "image/png": "[encoded data removed]",
      "text/plain": [
       "<Figure size 432x288 with 1 Axes>"
      ]
     },
     "metadata": {
      "needs_background": "light",
      "tags": []
     },
     "output_type": "display_data"
    }
   ],
   "source": [
    "bn_accuracy = bn_model_history.history['accuracy']\n",
    "bn_val_accuracy = bn_model_history.history['val_accuracy']\n",
    "bn_loss = bn_model_history.history['loss']\n",
    "bn_val_loss = bn_model_history.history['val_loss']\n",
    "\n",
    "plt.plot(range(1, len(bn_accuracy) + 1), bn_accuracy, label = 'accuracy')\n",
    "plt.plot(range(1, len(bn_val_accuracy) + 1), bn_val_accuracy, label = 'val accuracy')\n",
    "plt.axhline(y = bn_model_score[1], color = 'g', linestyle='--', label = 'test accuracy', alpha = 0.5)\n",
    "plt.xlabel('number of epochs')\n",
    "plt.ylabel('accuracy')\n",
    "plt.title('batch normalization model')\n",
    "plt.legend()"
   ]
  },
  {
   "cell_type": "markdown",
   "metadata": {
    "colab_type": "text",
    "id": "APLZQQBhJhg9"
   },
   "source": [
    "The training accuracy ramps up very quickly compared to the previous models (2-3 epochs compared to the dropout model).\n",
    "\n",
    "The test accuracy is higher than the training accuracy for up to 20 epochs. This could mean that the model is more robust and does not overfit on the training set when compared to the \"vanilla\" model."
   ]
  },
  {
   "cell_type": "markdown",
   "metadata": {
    "colab_type": "text",
    "id": "a3N-r4lvEA3D"
   },
   "source": [
    "## Batch Normalization with Drop-out model"
   ]
  },
  {
   "cell_type": "code",
   "execution_count": null,
   "metadata": {
    "colab": {},
    "colab_type": "code",
    "id": "gCbm8ba6EKTa"
   },
   "outputs": [],
   "source": [
    "from keras.models import Sequential\n",
    "from keras.layers import Dense, Activation, BatchNormalization\n",
    "\n",
    "bn_dp_model = Sequential(\n",
    "    [\n",
    "        # 1st hidden layer\n",
    "        Dense(196, input_shape = (784, )),\n",
    "        Activation('relu'),\n",
    "        Dropout(0.5),\n",
    "        BatchNormalization(),\n",
    "     \n",
    "        # 2nd hidden layer\n",
    "        Dense(49),\n",
    "        Activation('relu'),\n",
    "        Dropout(0.5),\n",
    "        BatchNormalization(),\n",
    "     \n",
    "        # Output layer\n",
    "        Dense(10),\n",
    "        Activation('softmax')\n",
    "    ]\n",
    ")"
   ]
  },
  {
   "cell_type": "code",
   "execution_count": null,
   "metadata": {
    "colab": {},
    "colab_type": "code",
    "id": "qOzD2UHkEKTg"
   },
   "outputs": [],
   "source": [
    "bn_dp_model.compile(\"adam\", \"categorical_crossentropy\", metrics=['accuracy'])"
   ]
  },
  {
   "cell_type": "code",
   "execution_count": 46,
   "metadata": {
    "colab": {
     "base_uri": "https://localhost:8080/",
     "height": 884
    },
    "colab_type": "code",
    "id": "sCA6mcuOEKTi",
    "outputId": "046efd2b-d816-4f1e-f54c-477156848d9a"
   },
   "outputs": [
    {
     "name": "stdout",
     "output_type": "stream",
     "text": [
      "Train on 50000 samples, validate on 10000 samples\n",
      "Epoch 1/25\n",
      "50000/50000 [==============================] - 30s 610us/step - loss: 1.3851 - accuracy: 0.4891 - val_loss: 0.8219 - val_accuracy: 0.7360\n",
      "Epoch 2/25\n",
      "50000/50000 [==============================] - 31s 620us/step - loss: 1.1802 - accuracy: 0.5575 - val_loss: 0.7442 - val_accuracy: 0.7584\n",
      "Epoch 3/25\n",
      "50000/50000 [==============================] - 31s 620us/step - loss: 1.1105 - accuracy: 0.5884 - val_loss: 0.7264 - val_accuracy: 0.7558\n",
      "Epoch 4/25\n",
      "50000/50000 [==============================] - 32s 634us/step - loss: 1.1004 - accuracy: 0.5929 - val_loss: 0.7413 - val_accuracy: 0.7495\n",
      "Epoch 5/25\n",
      "50000/50000 [==============================] - 31s 618us/step - loss: 1.0750 - accuracy: 0.6034 - val_loss: 0.8034 - val_accuracy: 0.7114\n",
      "Epoch 6/25\n",
      "50000/50000 [==============================] - 30s 602us/step - loss: 1.0852 - accuracy: 0.5984 - val_loss: 0.7065 - val_accuracy: 0.7343\n",
      "Epoch 7/25\n",
      "50000/50000 [==============================] - 31s 616us/step - loss: 1.0411 - accuracy: 0.6172 - val_loss: 0.6892 - val_accuracy: 0.7426\n",
      "Epoch 8/25\n",
      "50000/50000 [==============================] - 31s 623us/step - loss: 1.0412 - accuracy: 0.6157 - val_loss: 0.6734 - val_accuracy: 0.7550\n",
      "Epoch 9/25\n",
      "50000/50000 [==============================] - 31s 626us/step - loss: 1.0501 - accuracy: 0.6124 - val_loss: 0.6755 - val_accuracy: 0.7623\n",
      "Epoch 10/25\n",
      "50000/50000 [==============================] - 30s 609us/step - loss: 1.0263 - accuracy: 0.6256 - val_loss: 0.6590 - val_accuracy: 0.7540\n",
      "Epoch 11/25\n",
      "50000/50000 [==============================] - 31s 625us/step - loss: 1.0292 - accuracy: 0.6186 - val_loss: 0.6720 - val_accuracy: 0.7708\n",
      "Epoch 12/25\n",
      "50000/50000 [==============================] - 31s 621us/step - loss: 1.0452 - accuracy: 0.6156 - val_loss: 0.7124 - val_accuracy: 0.7727\n",
      "Epoch 13/25\n",
      "50000/50000 [==============================] - 31s 623us/step - loss: 1.0224 - accuracy: 0.6217 - val_loss: 0.6864 - val_accuracy: 0.7585\n",
      "Epoch 14/25\n",
      "50000/50000 [==============================] - 31s 629us/step - loss: 1.0431 - accuracy: 0.6162 - val_loss: 0.6763 - val_accuracy: 0.7652\n",
      "Epoch 15/25\n",
      "50000/50000 [==============================] - 30s 610us/step - loss: 1.0185 - accuracy: 0.6271 - val_loss: 0.6933 - val_accuracy: 0.7820\n",
      "Epoch 16/25\n",
      "50000/50000 [==============================] - 30s 609us/step - loss: 1.0060 - accuracy: 0.6333 - val_loss: 0.7301 - val_accuracy: 0.7346\n",
      "Epoch 17/25\n",
      "50000/50000 [==============================] - 32s 637us/step - loss: 1.0000 - accuracy: 0.6323 - val_loss: 0.6722 - val_accuracy: 0.7719\n",
      "Epoch 18/25\n",
      "50000/50000 [==============================] - 31s 628us/step - loss: 0.9815 - accuracy: 0.6388 - val_loss: 0.6421 - val_accuracy: 0.7547\n",
      "Epoch 19/25\n",
      "50000/50000 [==============================] - 30s 606us/step - loss: 0.9842 - accuracy: 0.6404 - val_loss: 0.6367 - val_accuracy: 0.7764\n",
      "Epoch 20/25\n",
      "50000/50000 [==============================] - 30s 609us/step - loss: 0.9765 - accuracy: 0.6414 - val_loss: 0.6464 - val_accuracy: 0.7728\n",
      "Epoch 21/25\n",
      "50000/50000 [==============================] - 30s 592us/step - loss: 0.9783 - accuracy: 0.6394 - val_loss: 0.6529 - val_accuracy: 0.7765\n",
      "Epoch 22/25\n",
      "50000/50000 [==============================] - 30s 593us/step - loss: 0.9806 - accuracy: 0.6462 - val_loss: 0.7581 - val_accuracy: 0.7698\n",
      "Epoch 23/25\n",
      "50000/50000 [==============================] - 30s 594us/step - loss: 0.9673 - accuracy: 0.6470 - val_loss: 0.6397 - val_accuracy: 0.7766\n",
      "Epoch 24/25\n",
      "50000/50000 [==============================] - 31s 614us/step - loss: 0.9728 - accuracy: 0.6469 - val_loss: 0.6426 - val_accuracy: 0.7754\n",
      "Epoch 25/25\n",
      "50000/50000 [==============================] - 31s 621us/step - loss: 0.9728 - accuracy: 0.6439 - val_loss: 0.6519 - val_accuracy: 0.7717\n"
     ]
    }
   ],
   "source": [
    "# Validation split = 1/6 gives us 10000 samples since we 60000 training samples\n",
    "bn_dp_model_history = bn_dp_model.fit(X_train, y_train, batch_size = 8, epochs = 25, verbose = 1, validation_split = 1/6)"
   ]
  },
  {
   "cell_type": "code",
   "execution_count": 47,
   "metadata": {
    "colab": {
     "base_uri": "https://localhost:8080/",
     "height": 68
    },
    "colab_type": "code",
    "id": "kzx52SusEKTk",
    "outputId": "9ce6dd46-3a25-4bc2-dabf-e2bcf50c405d"
   },
   "outputs": [
    {
     "name": "stdout",
     "output_type": "stream",
     "text": [
      "10000/10000 [==============================] - 1s 64us/step\n",
      "Test loss: 0.646\n",
      "Test Accuracy: 0.768\n"
     ]
    }
   ],
   "source": [
    "bn_dp_model_score = bn_dp_model.evaluate(X_test, y_test)\n",
    "print(\"Batch Normalization with Drop-out model test loss: {:.3f}\".format(bn_dp_model_score[0]))\n",
    "print(\"Batch Normalization with Drop-out model test accuracy: {:.3f}\".format(bn_dp_model_score[1]))"
   ]
  },
  {
   "cell_type": "code",
   "execution_count": 48,
   "metadata": {
    "colab": {
     "base_uri": "https://localhost:8080/",
     "height": 312
    },
    "colab_type": "code",
    "id": "avVSBCbGEKTm",
    "outputId": "c6225d82-464d-4480-f4ad-a5cb186a1aaa"
   },
   "outputs": [
    {
     "data": {
      "text/plain": [
       "<matplotlib.legend.Legend at 0x7fbedb6534e0>"
      ]
     },
     "execution_count": 48,
     "metadata": {
      "tags": []
     },
     "output_type": "execute_result"
    },
    {
     "data": {
      "image/png": "[encoded data removed]",
      "text/plain": [
       "<Figure size 432x288 with 1 Axes>"
      ]
     },
     "metadata": {
      "needs_background": "light",
      "tags": []
     },
     "output_type": "display_data"
    }
   ],
   "source": [
    "bn_dp_accuracy = bn_dp_model_history.history['accuracy']\n",
    "bn_dp_val_accuracy = bn_dp_model_history.history['val_accuracy']\n",
    "bn_dp_loss = bn_dp_model_history.history['loss']\n",
    "bn_dp_val_loss = bn_dp_model_history.history['val_loss']\n",
    "\n",
    "plt.plot(range(1, len(bn_dp_accuracy) + 1), bn_dp_accuracy, label = 'accuracy')\n",
    "plt.plot(range(1, len(bn_dp_val_accuracy) + 1), bn_dp_val_accuracy, label = 'validation accuracy')\n",
    "plt.axhline(y = bn_dp_model_score[1], color = 'g', linestyle='--', label = 'test accuracy', alpha = 0.5)\n",
    "plt.xlabel('number of epochs')\n",
    "plt.ylabel('accuracy')\n",
    "plt.title('batch normalization with dropout model')\n",
    "plt.legend()"
   ]
  },
  {
   "cell_type": "markdown",
   "metadata": {
    "colab_type": "text",
    "id": "mAzqaKEZEpb5"
   },
   "source": [
    "## Comparison of \"vanilla\" model with the other models"
   ]
  },
  {
   "cell_type": "code",
   "execution_count": 55,
   "metadata": {
    "colab": {
     "base_uri": "https://localhost:8080/",
     "height": 312
    },
    "colab_type": "code",
    "id": "m4w0UJmDqpjo",
    "outputId": "2769e1d9-2592-4eb9-97fa-b2085204b59b"
   },
   "outputs": [
    {
     "data": {
      "text/plain": [
       "<matplotlib.legend.Legend at 0x7fbeda274e10>"
      ]
     },
     "execution_count": 55,
     "metadata": {
      "tags": []
     },
     "output_type": "execute_result"
    },
    {
     "data": {
      "image/png": "[encoded data removed]",
      "text/plain": [
       "<Figure size 432x288 with 1 Axes>"
      ]
     },
     "metadata": {
      "needs_background": "light",
      "tags": []
     },
     "output_type": "display_data"
    }
   ],
   "source": [
    "# \"vanilla\" model vs. dropout model\n",
    "\n",
    "# \"vanilla\" model\n",
    "plt.plot(range(1, len(basic_accuracy) + 1), basic_accuracy, label = '\\\"vanilla\\\" model accuracy')\n",
    "plt.plot(range(1, len(basic_val_accuracy) + 1), basic_val_accuracy, label = '\\\"vanilla\\\" model val accuracy')\n",
    "plt.axhline(y = basic_model_score[1], color = 'g', linestyle='--', label = '\\\"vanilla\\\" model test accuracy', alpha = 0.5)\n",
    "\n",
    "# dropout model\n",
    "plt.plot(range(1, len(dropout_accuracy) + 1), dropout_accuracy, label = 'dropout model accuracy')\n",
    "plt.plot(range(1, len(dropout_val_accuracy) + 1), dropout_val_accuracy, label = 'dropout model val accuracy')\n",
    "plt.axhline(y = dropout_model_score[1], color = 'b', linestyle='--', label = 'dropout model test accuracy', alpha = 0.5)\n",
    "\n",
    "plt.xlabel('epoch number')\n",
    "plt.ylabel('accuracy')\n",
    "plt.title('\\\"vanilla\\\" model vs. dropout model')\n",
    "plt.legend()"
   ]
  },
  {
   "cell_type": "markdown",
   "metadata": {
    "colab_type": "text",
    "id": "TZ9v9mYMGpPV"
   },
   "source": [
    "Training the dropout model took a bit longer than training the \"vanilla\" model since we had added more layer(s).\n",
    "\n",
    "The test accuracy for the \"vanilla\" model is higher than the test accuracy for the dropout model which might indicate that our dropout model needs to be trained for a larger number of epochs.\n",
    "\n",
    "It may be the case that the dropout model is more robust than the \"vanilla\" model since it forces the neurons in the hidden layers to account for the neurons being dropped leading to higher generalization."
   ]
  },
  {
   "cell_type": "code",
   "execution_count": 61,
   "metadata": {
    "colab": {
     "base_uri": "https://localhost:8080/",
     "height": 312
    },
    "colab_type": "code",
    "id": "D2nLQfCHqm-W",
    "outputId": "da737764-bd00-4f79-8763-efab15217ea5"
   },
   "outputs": [
    {
     "data": {
      "text/plain": [
       "<matplotlib.legend.Legend at 0x7fbed9ec1e80>"
      ]
     },
     "execution_count": 61,
     "metadata": {
      "tags": []
     },
     "output_type": "execute_result"
    },
    {
     "data": {
      "image/png": "[encoded data removed]",
      "text/plain": [
       "<Figure size 432x288 with 1 Axes>"
      ]
     },
     "metadata": {
      "needs_background": "light",
      "tags": []
     },
     "output_type": "display_data"
    }
   ],
   "source": [
    "# \"vanilla\" model vs. batch normalization model\n",
    "\n",
    "# \"vanilla\" model\n",
    "plt.plot(range(1, len(basic_accuracy) + 1), basic_accuracy, label = '\\\"vanilla\\\" model accuracy')\n",
    "plt.plot(range(1, len(basic_val_accuracy) + 1), basic_val_accuracy, label = '\\\"vanilla\\\" model val accuracy')\n",
    "plt.axhline(y = basic_model_score[1], color = 'g', linestyle='--', label = '\\\"vanilla\\\" model test accuracy', alpha = 0.5)\n",
    "\n",
    "# batch normalization model\n",
    "plt.plot(range(1, len(bn_accuracy) + 1), bn_accuracy, label = 'batch normalization model accuracy')\n",
    "plt.plot(range(1, len(bn_val_accuracy) + 1), bn_val_accuracy, label = 'batch normalization model val accuracy')\n",
    "plt.axhline(y = bn_model_score[1], color = 'b', linestyle='--', label = 'batch normalization model test accuracy', alpha = 0.5)\n",
    "\n",
    "plt.xlabel('epoch number')\n",
    "plt.ylabel('accuracy')\n",
    "plt.title('\\\"vanilla\\\" model vs. batch normalization model')\n",
    "plt.legend(framealpha = 0.2)"
   ]
  },
  {
   "cell_type": "markdown",
   "metadata": {
    "colab_type": "text",
    "id": "5bShi2yELqtm"
   },
   "source": [
    "Training the batch normalization model took a lot longer than training the \"vanilla\" model since we added another step in-between the hidden layers.\n",
    "\n",
    "However, as mentioned above, it \"comes online\" very quickly (2-3 epochs) compared to the \"vanilla\" model and the dropout model.\n",
    "\n",
    "Similar to the dropout model, the test accuracy for the batch normalization model is lower than that of the \"vanilla\" model which might indicate that our batch normalization model needs to be trained for a larger number of epochs.\n",
    "\n",
    "Also, it may be the case that the batch normalization model is more robust than the \"vanilla\" model since we're basically applying a StandardScaler to the activation in each layer allowing for quicker convergence to the optimum."
   ]
  },
  {
   "cell_type": "code",
   "execution_count": 60,
   "metadata": {
    "colab": {
     "base_uri": "https://localhost:8080/",
     "height": 312
    },
    "colab_type": "code",
    "id": "o-lkcqvxpkqf",
    "outputId": "c78a5d76-240b-4b04-cc98-e72b7bd6eaef"
   },
   "outputs": [
    {
     "data": {
      "text/plain": [
       "<matplotlib.legend.Legend at 0x7fbed9f63588>"
      ]
     },
     "execution_count": 60,
     "metadata": {
      "tags": []
     },
     "output_type": "execute_result"
    },
    {
     "data": {
      "image/png": "[encoded data removed]",
      "text/plain": [
       "<Figure size 432x288 with 1 Axes>"
      ]
     },
     "metadata": {
      "needs_background": "light",
      "tags": []
     },
     "output_type": "display_data"
    }
   ],
   "source": [
    "# \"vanilla\" model vs. batch normalization with dropout model\n",
    "\n",
    "# \"vanilla\" model\n",
    "plt.plot(range(1, len(basic_accuracy) + 1), basic_accuracy, label = '\\\"vanilla\\\" model accuracy')\n",
    "plt.plot(range(1, len(basic_val_accuracy) + 1), basic_val_accuracy, label = '\\\"vanilla\\\" model val accuracy')\n",
    "plt.axhline(y = basic_model_score[1], color = 'g', linestyle='--', label = '\\\"vanilla\\\" model test accuracy', alpha = 0.5)\n",
    "\n",
    "# batch normalization with dropout model\n",
    "plt.plot(range(1, len(bn_dp_accuracy) + 1), bn_dp_accuracy, label = 'bn with dropout model accuracy')\n",
    "plt.plot(range(1, len(bn_dp_val_accuracy) + 1), bn_dp_val_accuracy, label = 'bn with dropout model val accuracy')\n",
    "plt.axhline(y = bn_dp_model_score[1], color = 'b', linestyle='--', label = 'bn with dropout model test accuracy', alpha = 0.5)\n",
    "\n",
    "plt.xlabel('epoch number')\n",
    "plt.ylabel('accuracy')\n",
    "plt.title('\\\"vanilla\\\" model vs. batch normalization with dropout model')\n",
    "plt.legend(loc = 'lower right', framealpha = 0.2)"
   ]
  },
  {
   "cell_type": "markdown",
   "metadata": {
    "colab_type": "text",
    "id": "S-Pwifi0LrIY"
   },
   "source": [
    "Training the batch normalization with dropout model took almost the same time as training the batch normalization model since we did not add any additional layers and only included dropout in each hidden layer.\n",
    "\n",
    "It performs very poorly when compared to the \"vanilla\" model.\n",
    "\n",
    "Perhaps it can be improved by choosing different number of hidden layer nodes and different number of layers.\n",
    "\n",
    "As it stands now, this is not a good model when compared to the \"vanilla\" model."
   ]
  },
  {
   "cell_type": "markdown",
   "metadata": {
    "colab_type": "text",
    "id": "v8igsU_CqRo9"
   },
   "source": [
    "# References\n",
    "\n",
    "[Dataset](https://keras.io/datasets/#fashion-mnist-database-of-fashion-articles)\n",
    "\n",
    "\n",
    "[Drop-out](https://www.machinecurve.com/index.php/2019/12/18/how-to-use-dropout-with-keras/#)\n",
    "\n"
   ]
  }
 ],
 "metadata": {
  "accelerator": "GPU",
  "colab": {
   "collapsed_sections": [],
   "name": "task2.ipynb",
   "provenance": []
  },
  "kernelspec": {
   "display_name": "Python 3",
   "language": "python",
   "name": "python3"
  },
  "language_info": {
   "codemirror_mode": {
    "name": "ipython",
    "version": 3
   },
   "file_extension": ".py",
   "mimetype": "text/x-python",
   "name": "python",
   "nbconvert_exporter": "python",
   "pygments_lexer": "ipython3",
   "version": "3.7.4"
  }
 },
 "nbformat": 4,
 "nbformat_minor": 4
}
